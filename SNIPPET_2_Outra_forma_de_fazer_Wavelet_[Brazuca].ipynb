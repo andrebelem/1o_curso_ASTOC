{
  "nbformat": 4,
  "nbformat_minor": 0,
  "metadata": {
    "colab": {
      "provenance": [],
      "authorship_tag": "ABX9TyMRI4uH6zOHnqvqRRw7oEDg",
      "include_colab_link": true
    },
    "kernelspec": {
      "name": "python3",
      "display_name": "Python 3"
    },
    "language_info": {
      "name": "python"
    }
  },
  "cells": [
    {
      "cell_type": "markdown",
      "metadata": {
        "id": "view-in-github",
        "colab_type": "text"
      },
      "source": [
        "<a href=\"https://colab.research.google.com/github/andrebelem/ASTOC/blob/main/SNIPPET_2_Outra_forma_de_fazer_Wavelet_%5BBrazuca%5D.ipynb\" target=\"_parent\"><img src=\"https://colab.research.google.com/assets/colab-badge.svg\" alt=\"Open In Colab\"/></a>"
      ]
    },
    {
      "cell_type": "markdown",
      "source": [
        "Vamos no modo \"quick & dirty\", sem muito texto explicativo, porque é MUITO FÁCIL a aplicação.... siga os passos."
      ],
      "metadata": {
        "id": "qjGsYcctRmTB"
      }
    },
    {
      "cell_type": "code",
      "execution_count": null,
      "metadata": {
        "id": "euW69M6AQNlm"
      },
      "outputs": [],
      "source": [
        "import pandas as pd\n",
        "\n",
        "# Lendo o arquivo parquet com dados de atividade solar\n",
        "df_sun = pd.read_parquet(\"https://github.com/andrebelem/ASTOC/raw/main/dados_publicos/sunspot_1950-2023.parquet\")"
      ]
    },
    {
      "cell_type": "code",
      "source": [
        "# primeiro instalando o waipy da Mabel Calim (ex-INPE) https://github.com/mabelcalim/waipy\n",
        "!pip install git+https://github.com/mabelcalim/waipy.git"
      ],
      "metadata": {
        "id": "RfNblqS_Q7KZ"
      },
      "execution_count": null,
      "outputs": []
    },
    {
      "cell_type": "code",
      "source": [
        "# vou importar e normalizar...\n",
        "import waipy\n",
        "data_norm = waipy.normalize(df_sun.mean_ss_w)"
      ],
      "metadata": {
        "id": "tbIroVN6RCED"
      },
      "execution_count": null,
      "outputs": []
    },
    {
      "cell_type": "code",
      "source": [
        "# **NOTE** a receita de bolo.....\n",
        "T1 = df_sun.ss_decyear[0] # define o início da série aqui\n",
        "time = df_sun.ss_decyear\n",
        "dt = 1/12  # em anos (ou seja, o dado é mensal)\n",
        "\n",
        "pad = 1         # preencha a série temporal com zeros (recomendado)\n",
        "dj = 0.25       # isto fará 4 sub-oitavas por oitava\n",
        "s0 = 6*dt       # isso diz começar em uma escala de 6 meses se dt = mensal\n",
        "j1 = 7/dj       # isso diz fazer 7 potências de dois com dj sub-oitavas cada\n",
        "lag1 = 0.72     # lag-1 autocorrelação para ruído de fundo vermelho\n",
        "param = 6\n",
        "mother = 'Morlet'"
      ],
      "metadata": {
        "id": "NcrpRV1BRUT8"
      },
      "execution_count": null,
      "outputs": []
    },
    {
      "cell_type": "code",
      "source": [
        "result_sun = waipy.cwt(data_norm, dt, pad, dj, s0, j1, lag1, param, mother='Morlet',name='Solar win=13m')\n",
        "var='Solar win=13m'\n",
        "dtmin = 0.25/8    # dt/n of suboctaves\n",
        "waipy.wavelet_plot(var, time, data_norm, dtmin, result_sun)"
      ],
      "metadata": {
        "id": "zayAg155RWdN"
      },
      "execution_count": null,
      "outputs": []
    },
    {
      "cell_type": "markdown",
      "source": [
        "Mais fácil ? SIM !! muito !"
      ],
      "metadata": {
        "id": "Bhkoaa8gRgjz"
      }
    }
  ]
}